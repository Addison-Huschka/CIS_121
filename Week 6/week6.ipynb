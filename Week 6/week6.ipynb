{
 "cells": [
  {
   "cell_type": "code",
   "execution_count": 1,
   "id": "5ebd6474",
   "metadata": {},
   "outputs": [
    {
     "name": "stdout",
     "output_type": "stream",
     "text": [
      "[0, 4, 6]\n"
     ]
    }
   ],
   "source": [
    "def ascending_order(num1,num2,num3):\n",
    "    if num1 >= num2 and num1 >= num3:\n",
    "        if num2 >= num3:\n",
    "            order = [num3, num2, num1] \n",
    "        else: \n",
    "            order = [num2, num3, num1]\n",
    "    if num2 >= num3 and num2 >= num1:\n",
    "        if num1 >= num3:\n",
    "            order = [num3, num1, num2] \n",
    "        else: \n",
    "            order = [num1, num3, num2]\n",
    "    if num3 >= num2 and num3 >= num1:\n",
    "        if num2 >= num1:\n",
    "            order = [num1, num2, num3] \n",
    "        else: \n",
    "            order = [num2, num1, num3]\n",
    "    return order\n",
    "print(ascending_order(6,0,4))"
   ]
  }
 ],
 "metadata": {
  "kernelspec": {
   "display_name": "Python 3",
   "language": "python",
   "name": "python3"
  },
  "language_info": {
   "codemirror_mode": {
    "name": "ipython",
    "version": 3
   },
   "file_extension": ".py",
   "mimetype": "text/x-python",
   "name": "python",
   "nbconvert_exporter": "python",
   "pygments_lexer": "ipython3",
   "version": "3.11.9"
  }
 },
 "nbformat": 4,
 "nbformat_minor": 5
}
